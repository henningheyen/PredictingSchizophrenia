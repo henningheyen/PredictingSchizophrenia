{
 "cells": [
  {
   "attachments": {},
   "cell_type": "markdown",
   "id": "881a8ae6",
   "metadata": {},
   "source": [
    "# COMP0189 Applied AI Coursework 2\n",
    "## Author: Henning Heyen (Student Number 22193699)\n"
   ]
  },
  {
   "attachments": {},
   "cell_type": "markdown",
   "id": "1d2436df",
   "metadata": {},
   "source": [
    "# Table of Contents\n",
    "\n",
    "[1 Descriptive Statistics](#1)\n",
    "\n",
    "[2 Machine Learning Pipeline](#2)\n",
    "\n",
    "[2.1 Regularized Linear Model](#2.1)\n",
    "\n",
    "[2.1.1 Liner Model Low Dimensional Data](#2.1.1)\n",
    "\n",
    "[2.1.1 Liner Model High Dimensional Data](#2.1.2)\n",
    "\n",
    "[2.2 Tree Model](#2.2)\n",
    "\n",
    "[2.2.1 Tree Low Dimensional Data](#2.2.1)\n",
    "\n",
    "[2.2.1 Tree High Dimensional Data](#2.2.2)\n",
    "\n",
    "[2.3 Non Linear Model](#2.3)\n",
    "\n",
    "[2.3.1 Non Liner Model Low Dimensional Data](#2.3.1)\n",
    "\n",
    "[2.3.1 Non Liner Model High Dimensional Data](#2.3.2)\n",
    "\n",
    "[3 Results](#3)"
   ]
  },
  {
   "cell_type": "code",
   "execution_count": 1,
   "id": "eb4e26f2",
   "metadata": {},
   "outputs": [],
   "source": [
    "# Loading participants data\n",
    "%matplotlib inline\n",
    "import os\n",
    "import numpy as np\n",
    "import matplotlib.pyplot as plt\n",
    "import pandas as pd\n",
    "import seaborn as sns\n",
    "\n",
    "# Train participants\n",
    "participants_train = pd.read_csv(os.path.join(\"data\", \"train_participants.csv\" ))\n",
    "participants_train[\"set\"] = 'train'\n",
    "participants_test = pd.read_csv(os.path.join(\"data\", \"test_participants.csv\" ))\n",
    "\n",
    "# Test participants\n",
    "participants_test[\"set\"] = 'test'\n",
    "\n",
    "# All participants\n",
    "participants = pd.concat([participants_train, participants_test])"
   ]
  },
  {
   "attachments": {},
   "cell_type": "markdown",
   "id": "fcac317c",
   "metadata": {},
   "source": [
    "<a id='1'></a>\n",
    "## Descriptive Statistics"
   ]
  },
  {
   "cell_type": "code",
   "execution_count": 2,
   "id": "12ae35d9",
   "metadata": {},
   "outputs": [
    {
     "data": {
      "text/html": [
       "<div>\n",
       "<style scoped>\n",
       "    .dataframe tbody tr th:only-of-type {\n",
       "        vertical-align: middle;\n",
       "    }\n",
       "\n",
       "    .dataframe tbody tr th {\n",
       "        vertical-align: top;\n",
       "    }\n",
       "\n",
       "    .dataframe thead th {\n",
       "        text-align: right;\n",
       "    }\n",
       "</style>\n",
       "<table border=\"1\" class=\"dataframe\">\n",
       "  <thead>\n",
       "    <tr style=\"text-align: right;\">\n",
       "      <th></th>\n",
       "      <th>participant_id</th>\n",
       "      <th>session</th>\n",
       "      <th>sex</th>\n",
       "      <th>age</th>\n",
       "      <th>diagnosis</th>\n",
       "      <th>study</th>\n",
       "      <th>site</th>\n",
       "      <th>TIV</th>\n",
       "      <th>CSF_Vol</th>\n",
       "      <th>GM_Vol</th>\n",
       "      <th>WM_Vol</th>\n",
       "      <th>set</th>\n",
       "    </tr>\n",
       "  </thead>\n",
       "  <tbody>\n",
       "    <tr>\n",
       "      <th>0</th>\n",
       "      <td>CH7098a</td>\n",
       "      <td>V1</td>\n",
       "      <td>0.0</td>\n",
       "      <td>20.0</td>\n",
       "      <td>schizophrenia</td>\n",
       "      <td>SCHIZCONNECT-VIP</td>\n",
       "      <td>NU</td>\n",
       "      <td>1712.357084</td>\n",
       "      <td>375.529152</td>\n",
       "      <td>747.089338</td>\n",
       "      <td>586.391159</td>\n",
       "      <td>train</td>\n",
       "    </tr>\n",
       "    <tr>\n",
       "      <th>1</th>\n",
       "      <td>A00024535</td>\n",
       "      <td>V1</td>\n",
       "      <td>0.0</td>\n",
       "      <td>26.0</td>\n",
       "      <td>control</td>\n",
       "      <td>SCHIZCONNECT-VIP</td>\n",
       "      <td>MRN</td>\n",
       "      <td>1700.601735</td>\n",
       "      <td>399.493745</td>\n",
       "      <td>721.128411</td>\n",
       "      <td>579.446172</td>\n",
       "      <td>train</td>\n",
       "    </tr>\n",
       "    <tr>\n",
       "      <th>2</th>\n",
       "      <td>CC7563</td>\n",
       "      <td>V1</td>\n",
       "      <td>1.0</td>\n",
       "      <td>28.0</td>\n",
       "      <td>control</td>\n",
       "      <td>SCHIZCONNECT-VIP</td>\n",
       "      <td>WUSTL</td>\n",
       "      <td>1449.327365</td>\n",
       "      <td>220.825294</td>\n",
       "      <td>661.028439</td>\n",
       "      <td>566.500051</td>\n",
       "      <td>train</td>\n",
       "    </tr>\n",
       "    <tr>\n",
       "      <th>3</th>\n",
       "      <td>CC3945</td>\n",
       "      <td>V1</td>\n",
       "      <td>1.0</td>\n",
       "      <td>21.0</td>\n",
       "      <td>control</td>\n",
       "      <td>SCHIZCONNECT-VIP</td>\n",
       "      <td>WUSTL</td>\n",
       "      <td>1184.699000</td>\n",
       "      <td>201.579922</td>\n",
       "      <td>560.051329</td>\n",
       "      <td>423.016129</td>\n",
       "      <td>train</td>\n",
       "    </tr>\n",
       "    <tr>\n",
       "      <th>4</th>\n",
       "      <td>CH8853b</td>\n",
       "      <td>V1</td>\n",
       "      <td>1.0</td>\n",
       "      <td>21.0</td>\n",
       "      <td>control</td>\n",
       "      <td>SCHIZCONNECT-VIP</td>\n",
       "      <td>NU</td>\n",
       "      <td>1518.198466</td>\n",
       "      <td>291.544632</td>\n",
       "      <td>705.384606</td>\n",
       "      <td>520.807601</td>\n",
       "      <td>train</td>\n",
       "    </tr>\n",
       "  </tbody>\n",
       "</table>\n",
       "</div>"
      ],
      "text/plain": [
       "  participant_id session  sex   age      diagnosis             study   site  \\\n",
       "0        CH7098a      V1  0.0  20.0  schizophrenia  SCHIZCONNECT-VIP     NU   \n",
       "1      A00024535      V1  0.0  26.0        control  SCHIZCONNECT-VIP    MRN   \n",
       "2         CC7563      V1  1.0  28.0        control  SCHIZCONNECT-VIP  WUSTL   \n",
       "3         CC3945      V1  1.0  21.0        control  SCHIZCONNECT-VIP  WUSTL   \n",
       "4        CH8853b      V1  1.0  21.0        control  SCHIZCONNECT-VIP     NU   \n",
       "\n",
       "           TIV     CSF_Vol      GM_Vol      WM_Vol    set  \n",
       "0  1712.357084  375.529152  747.089338  586.391159  train  \n",
       "1  1700.601735  399.493745  721.128411  579.446172  train  \n",
       "2  1449.327365  220.825294  661.028439  566.500051  train  \n",
       "3  1184.699000  201.579922  560.051329  423.016129  train  \n",
       "4  1518.198466  291.544632  705.384606  520.807601  train  "
      ]
     },
     "execution_count": 2,
     "metadata": {},
     "output_type": "execute_result"
    }
   ],
   "source": [
    "# Overview on the participants data\n",
    "participants.head()"
   ]
  },
  {
   "cell_type": "code",
   "execution_count": 3,
   "id": "4293061d",
   "metadata": {},
   "outputs": [
    {
     "name": "stdout",
     "output_type": "stream",
     "text": [
      "<class 'pandas.core.frame.DataFrame'>\n",
      "Int64Index: 513 entries, 0 to 102\n",
      "Data columns (total 12 columns):\n",
      " #   Column          Non-Null Count  Dtype  \n",
      "---  ------          --------------  -----  \n",
      " 0   participant_id  513 non-null    object \n",
      " 1   session         513 non-null    object \n",
      " 2   sex             513 non-null    float64\n",
      " 3   age             513 non-null    float64\n",
      " 4   diagnosis       513 non-null    object \n",
      " 5   study           513 non-null    object \n",
      " 6   site            513 non-null    object \n",
      " 7   TIV             513 non-null    float64\n",
      " 8   CSF_Vol         513 non-null    float64\n",
      " 9   GM_Vol          513 non-null    float64\n",
      " 10  WM_Vol          513 non-null    float64\n",
      " 11  set             513 non-null    object \n",
      "dtypes: float64(6), object(6)\n",
      "memory usage: 52.1+ KB\n"
     ]
    }
   ],
   "source": [
    "# Testing for missing values and data types\n",
    "participants.info()"
   ]
  },
  {
   "cell_type": "code",
   "execution_count": 4,
   "id": "961939db",
   "metadata": {},
   "outputs": [
    {
     "name": "stdout",
     "output_type": "stream",
     "text": [
      "Number of train participants: 410\n",
      "Number of test participants: 103\n"
     ]
    }
   ],
   "source": [
    "# Printing train and test sizes\n",
    "print(f'Number of train participants: {participants_train.shape[0]}')\n",
    "print(f'Number of test participants: {participants_test.shape[0]}')"
   ]
  },
  {
   "cell_type": "code",
   "execution_count": 5,
   "id": "aa170e85",
   "metadata": {},
   "outputs": [
    {
     "name": "stdout",
     "output_type": "stream",
     "text": [
      "         age                                                    \n",
      "       count       mean        std   min   25%   50%   75%   max\n",
      "set                                                             \n",
      "test   103.0  33.466019  12.809935  14.0  23.5  31.0  41.0  66.0\n",
      "train  410.0  33.068293  12.562225  15.0  22.0  29.0  43.0  65.0\n",
      "           age\n",
      "set   sex     \n",
      "test  0.0   65\n",
      "      1.0   38\n",
      "train 0.0  257\n",
      "      1.0  153\n"
     ]
    },
    {
     "data": {
      "image/png": "[encoded data removed]",
      "text/plain": [
       "<Figure size 640x480 with 1 Axes>"
      ]
     },
     "metadata": {},
     "output_type": "display_data"
    }
   ],
   "source": [
    "# Understanding sex and age distribution \n",
    "sns.violinplot(x=\"set\", y=\"age\", data=participants)\n",
    "print(participants[[\"age\", \"set\"]].groupby(\"set\").describe())\n",
    "print(participants[[\"set\", \"sex\", \"age\"]].groupby([\"set\", \"sex\"]).count())"
   ]
  },
  {
   "cell_type": "code",
   "execution_count": 6,
   "metadata": {},
   "outputs": [
    {
     "data": {
      "text/plain": [
       "diagnosis\n",
       "control          277\n",
       "schizophrenia    236\n",
       "dtype: int64"
      ]
     },
     "execution_count": 6,
     "metadata": {},
     "output_type": "execute_result"
    }
   ],
   "source": [
    "# Distribution of the target variable\n",
    "participants.value_counts(\"diagnosis\")"
   ]
  },
  {
   "cell_type": "code",
   "execution_count": 7,
   "id": "e063aa57",
   "metadata": {
    "scrolled": true
   },
   "outputs": [
    {
     "data": {
      "image/png": "[encoded data removed]",
      "text/plain": [
       "<Figure size 2000x1000 with 3 Axes>"
      ]
     },
     "metadata": {},
     "output_type": "display_data"
    }
   ],
   "source": [
    "# Distribution of the target variable across train and test data. Verifying same distributions\n",
    "fig = plt.figure(figsize=(20,10))\n",
    "ax1 = fig.add_subplot(131)\n",
    "ax1.pie(participants.value_counts(\"diagnosis\"), autopct='%.0f%%', startangle = 90)\n",
    "ax1.set_title('All participants')\n",
    "ax2 = fig.add_subplot(132)\n",
    "ax2.pie(participants_train.value_counts(\"diagnosis\"), autopct='%.0f%%', startangle = 90)\n",
    "ax2.set_title('Train participants')\n",
    "ax3 = fig.add_subplot(133)\n",
    "ax3.pie(participants_test.value_counts(\"diagnosis\"), autopct='%.0f%%', startangle = 90)\n",
    "ax3.set_title('Test participants')\n",
    "\n",
    "plt.legend(labels=['control','schizophrenia'], loc=0)\n",
    "plt.show()"
   ]
  },
  {
   "cell_type": "code",
   "execution_count": 8,
   "id": "921bd857",
   "metadata": {},
   "outputs": [
    {
     "data": {
      "text/plain": [
       "sex\n",
       "0.0    322\n",
       "1.0    191\n",
       "dtype: int64"
      ]
     },
     "execution_count": 8,
     "metadata": {},
     "output_type": "execute_result"
    }
   ],
   "source": [
    "# Distribution of sex\n",
    "participants.value_counts(\"sex\")"
   ]
  },
  {
   "cell_type": "code",
   "execution_count": 9,
   "id": "e484da03",
   "metadata": {},
   "outputs": [
    {
     "data": {
      "image/png": "[encoded data removed]",
      "text/plain": [
       "<Figure size 800x400 with 1 Axes>"
      ]
     },
     "metadata": {},
     "output_type": "display_data"
    }
   ],
   "source": [
    "# Distribution of gender. Showing the imbalance\n",
    "plt.figure(figsize=(8,4))\n",
    "plt.pie(participants_test.value_counts(\"sex\"), autopct='%.0f%%', startangle = 90)\n",
    "plt.title('Test participants')\n",
    "\n",
    "plt.legend(labels=[0,1], loc=0)\n",
    "plt.show()"
   ]
  },
  {
   "cell_type": "code",
   "execution_count": 10,
   "id": "ebab1848",
   "metadata": {},
   "outputs": [
    {
     "data": {
      "image/png": "[encoded data removed]",
      "text/plain": [
       "<Figure size 600x500 with 1 Axes>"
      ]
     },
     "metadata": {},
     "output_type": "display_data"
    }
   ],
   "source": [
    "# Plotting gender against diagnosis. \n",
    "plt.figure(figsize=(6,5))\n",
    "sns.countplot(data=participants, x='sex', hue='diagnosis')\n",
    "plt.title('Gender against diagnosis')\n",
    "plt.show()"
   ]
  },
  {
   "attachments": {},
   "cell_type": "markdown",
   "id": "01a877b4",
   "metadata": {},
   "source": [
    "<a id='2'></a>\n",
    "# Machine Learning Pipeline"
   ]
  },
  {
   "cell_type": "code",
   "execution_count": 11,
   "id": "7af57155",
   "metadata": {},
   "outputs": [],
   "source": [
    "# all imports\n",
    "from sklearn.preprocessing import StandardScaler, MinMaxScaler\n",
    "import sklearn.preprocessing as preprocessing\n",
    "from sklearn.pipeline import make_pipeline\n",
    "from sklearn.linear_model import LogisticRegression\n",
    "from sklearn.ensemble import RandomForestClassifier, GradientBoostingClassifier, ExtraTreesClassifier\n",
    "from sklearn.svm import SVC\n",
    "from sklearn.base import BaseEstimator, TransformerMixin\n",
    "from sklearn.neural_network import MLPClassifier\n",
    "from xgboost import XGBClassifier\n",
    "from sklearn.model_selection import StratifiedKFold, StratifiedGroupKFold, GridSearchCV, cross_validate\n",
    "from sklearn.metrics import balanced_accuracy_score, roc_auc_score, roc_curve\n",
    "from lightgbm import LGBMClassifier\n",
    "\n",
    "import problem\n"
   ]
  },
  {
   "cell_type": "code",
   "execution_count": 12,
   "id": "dc30b9d8",
   "metadata": {},
   "outputs": [],
   "source": [
    "# Loading train and test data:\n",
    "X_train, y_train = problem.get_train_data()\n",
    "X_test, y_test = problem.get_test_data()\n",
    "\n",
    "assert X_train.shape[1] == 284 + 331695"
   ]
  },
  {
   "attachments": {},
   "cell_type": "markdown",
   "id": "baaacd83",
   "metadata": {},
   "source": [
    "**Feature extractor of ROIs or voxels within the brain (VBM)**\n",
    "\n",
    "Selecting only rois or vbm images:\n",
    "\n",
    "This can be achieved by a `ROIsFeatureExtractor` or `VBMFeatureExtractor` "
   ]
  },
  {
   "cell_type": "code",
   "execution_count": 13,
   "id": "464a1206",
   "metadata": {},
   "outputs": [
    {
     "name": "stdout",
     "output_type": "stream",
     "text": [
      "(410, 284)\n",
      "(410, 331695)\n"
     ]
    }
   ],
   "source": [
    "# X[:, :284] refers to the ROI data\n",
    "class ROIsFeatureExtractor(BaseEstimator, TransformerMixin):\n",
    "    \"\"\"Select only the 284 ROIs features:\"\"\"\n",
    "    def fit(self, X, y):\n",
    "        return self\n",
    "\n",
    "    def transform(self, X):\n",
    "        return X[:, :284]\n",
    "    \n",
    "# X[:, 284:] refers to the VBM data\n",
    "class VBMFeatureExtractor(BaseEstimator, TransformerMixin):\n",
    "    \"\"\"Select only the 284 ROIs featsures:\"\"\"\n",
    "    def fit(self, X, y):\n",
    "        return self\n",
    "\n",
    "    def transform(self, X):\n",
    "        return X[:, 284:]\n",
    "\n",
    "# Printing the X_train shape for ROI\n",
    "fe = ROIsFeatureExtractor()\n",
    "print(fe.transform(X_train).shape)\n",
    "\n",
    "# Printing the X_train shape for VBM\n",
    "fe = VBMFeatureExtractor()\n",
    "print(fe.transform(X_train).shape)"
   ]
  },
  {
   "cell_type": "code",
   "execution_count": 14,
   "id": "dc6d8541",
   "metadata": {},
   "outputs": [],
   "source": [
    "def get_clf(model, data):\n",
    "    '''\n",
    "    returns a pipeline estimator based on the model and the data modality\n",
    "    @params\n",
    "        model: (String) can be 'linear', 'tree' or 'nonlinear' corresponding to the three selected models(Logistic Regression, Random Forest, Multi-Layer-Perceptron)\n",
    "        data: (String) can be 'ROI' or 'VBM' corresponging to the high or low dimensional data\n",
    "    @returns\n",
    "        (pipeline): pipeline object that can be trained. \n",
    "    '''\n",
    "    # Setting the feature extractor\n",
    "    if data == 'ROI':\n",
    "        extractor = ROIsFeatureExtractor()\n",
    "    elif data == 'VBM':\n",
    "        extractor = VBMFeatureExtractor()\n",
    "    else:\n",
    "        print(\"data must be 'ROI' or 'VBM'\")\n",
    "        return\n",
    "\n",
    "    # Setting the model\n",
    "    if model == 'linear':\n",
    "        clf = LogisticRegression(max_iter=1000)\n",
    "    elif model == 'tree':\n",
    "        clf = RandomForestClassifier()\n",
    "    elif model == 'nonlinear':    \n",
    "        #clf = SVC()\n",
    "        clf = MLPClassifier()\n",
    "    else:\n",
    "        print(\"model must be 'linear', 'tree' or 'nonlinear'\")\n",
    "        return\n",
    "    \n",
    "    # Setting scaling technique\n",
    "    scaler = StandardScaler()\n",
    "\n",
    "    # setup pipeline\n",
    "    pipe = make_pipeline(\n",
    "    extractor,\n",
    "    scaler,\n",
    "    clf,\n",
    "    )\n",
    "\n",
    "    return pipe"
   ]
  },
  {
   "cell_type": "code",
   "execution_count": 15,
   "id": "94330364",
   "metadata": {},
   "outputs": [],
   "source": [
    "def tune(clf, param_grid, verbose=True, cv_strategy='StratifiedKFold', final_scoring='roc_auc', n_splits=5):\n",
    "    '''\n",
    "        method performs crossvalidation and hyperparametr tuning on the train data\n",
    "        @params\n",
    "            clf: (pipeline) ideally the classifier returned by the get_clf() method\n",
    "            param_grid: (dict) dictionary containing hyperparameter to be tested in gridsearch\n",
    "            verbose: (Bool) prints Best hyperparameters, Mean score for roc_auc and balanced_accuracy if set to True \n",
    "            cv_strategy: (String) can be 'StratifiedKFold' or 'StratifiedGroupKFold'\n",
    "            final_scoring: (String) can be 'roc_auc' or 'balanced_accuracy'. Used for final model selection\n",
    "            n_splits: (int) defining the number of folds for StratifiedKFold. for StratifiedGroupKFold n_split is set to 2 becuase group is fixed on gender (0 and 1 group)\n",
    "        @returns\n",
    "            results: (dict) dictionary containing 'mean_roc_auc', 'std_roc_auc', 'mean_bacc', 'std_bacc', 'mean_fit_time', 'std_fit_time'\n",
    "\n",
    "    '''\n",
    "\n",
    "    # Define the cross-validation method\n",
    "    if cv_strategy == 'StratifiedKFold':\n",
    "        cv = StratifiedKFold(n_splits=n_splits, shuffle=True, random_state=0)\n",
    "    elif cv_strategy == 'StratifiedGroupKFold':\n",
    "        # For Group CV the number of folds must be less or equal to the number of groups to ensure that groups can be separated\n",
    "        cv = StratifiedGroupKFold(n_splits=2, shuffle=True, random_state=0)\n",
    "    else:\n",
    "        print(\"cv_strategy must be 'StratifiedKFold' or 'StratifiedGroupKFold'\")\n",
    "        return\n",
    "\n",
    "    # Define the grid search object\n",
    "    grid_search = GridSearchCV(\n",
    "        clf,\n",
    "        param_grid,\n",
    "        cv=cv,\n",
    "        scoring=['balanced_accuracy', 'roc_auc'], \n",
    "        refit=final_scoring,\n",
    "        n_jobs=-1\n",
    "    )\n",
    "\n",
    "    # Fit the grid search object to the data using StratifiedKFold\n",
    "    if cv_strategy == 'StratifiedKFold':\n",
    "        grid_search.fit(X_train, y_train)\n",
    "        \n",
    "    # Fit the grid search object to the data using StratifiedGroupKFold\n",
    "    elif cv_strategy == 'StratifiedGroupKFold':\n",
    "        sex = participants_train['sex'].values\n",
    "        grid_search.fit(X_train, y_train, groups=sex)\n",
    "\n",
    "    #Results\n",
    "    mean_roc_auc = round(grid_search.cv_results_['mean_test_roc_auc'][grid_search.best_index_],3)\n",
    "    std_roc_auc = round(grid_search.cv_results_['std_test_roc_auc'][grid_search.best_index_],3)\n",
    "    mean_bacc = round(grid_search.cv_results_['mean_test_balanced_accuracy'][grid_search.best_index_],3)\n",
    "    std_bacc = round(grid_search.cv_results_['std_test_balanced_accuracy'][grid_search.best_index_],3)\n",
    "    mean_fit_time = round(grid_search.cv_results_['mean_fit_time'][grid_search.best_index_],1)\n",
    "    std_fit_time = round(grid_search.cv_results_['std_fit_time'][grid_search.best_index_],1)\n",
    "\n",
    "    results = {\n",
    "        'mean_roc_auc': mean_roc_auc,\n",
    "        'std_roc_auc': std_roc_auc,\n",
    "        'mean_bacc': mean_bacc,\n",
    "        'std_bacc': std_bacc,\n",
    "        'mean_fit_time': mean_fit_time,\n",
    "        'std_fit_time': std_fit_time,\n",
    "    }\n",
    "    \n",
    "    # printing results\n",
    "    if verbose:\n",
    "        # Print the best hyperparameters and balanced_accuracy and roc_auc scores\n",
    "        print(\"Best hyperparameters:\", grid_search.best_params_)\n",
    "        print(\"Mean score for roc_auc :\", mean_roc_auc)\n",
    "        print(\"Mean score for balanced_accuracy:\", mean_bacc, '\\n')\n",
    "\n",
    "    return results "
   ]
  },
  {
   "cell_type": "code",
   "execution_count": 16,
   "id": "28f80a0b",
   "metadata": {},
   "outputs": [],
   "source": [
    "def evaluate(clf_best, report_fit_time=False):\n",
    "    '''\n",
    "        trains the best model on the train data and evaluates on the test data\n",
    "        @params:\n",
    "            clf_best: (pipeline) best clasiifier. \n",
    "            report_fit_time: (Bool) prints the time to fit the train data if set to True (default is False)\n",
    "        @returns\n",
    "            (dict): results containing bacc_train, auc_train, bacc_test, auc_test, fpr (false positive rate) and tpr (true positive rate)\n",
    "    '''\n",
    "    # Refit on all train\n",
    "    if report_fit_time:\n",
    "        %time clf_best.fit(X_train, y_train)\n",
    "    else:\n",
    "        clf_best.fit(X_train, y_train)\n",
    "\n",
    "    # Apply on test\n",
    "    y_pred_train = clf_best.predict(X_train)\n",
    "    y_pred_test = clf_best.predict(X_test)\n",
    "    score_pred_test = clf_best.predict_proba(X_test)[:, 1]\n",
    "    score_pred_train = clf_best.predict_proba(X_train)[:, 1]\n",
    "\n",
    "    bacc_train = round(balanced_accuracy_score(y_train, y_pred_train),3)\n",
    "    auc_train = round(roc_auc_score(y_train, score_pred_train),3)\n",
    "\n",
    "    bacc_test = round(balanced_accuracy_score(y_test, y_pred_test),3)\n",
    "    auc_test = round(roc_auc_score(y_test, score_pred_test),3)\n",
    "\n",
    "    fpr, tpr, _ = roc_curve(y_test, score_pred_test, pos_label='schizophrenia')\n",
    "\n",
    "    print(\"# Train\")\n",
    "    print('bACC=%.2f' % bacc_train,\n",
    "        'ROC-AUC=%.2f' % auc_train, '\\n')\n",
    "\n",
    "    print(\"# Test\")\n",
    "    print('bACC=%.2f' % bacc_test,\n",
    "        'ROC-AUC=%.2f' % auc_test, '\\n')\n",
    "    \n",
    "\n",
    "    return {\n",
    "        'bacc_train': bacc_train,\n",
    "        'auc_train': auc_train,\n",
    "        'bacc_test': bacc_test,\n",
    "        'auc_test': auc_test,\n",
    "        'fpr':fpr,\n",
    "        'tpr':tpr,   \n",
    "    }"
   ]
  },
  {
   "attachments": {},
   "cell_type": "markdown",
   "id": "5a1d9555",
   "metadata": {},
   "source": [
    "<a id='2.1'></a>\n",
    "## Regularized Linear Model\n"
   ]
  },
  {
   "attachments": {},
   "cell_type": "markdown",
   "id": "a934aa6e",
   "metadata": {},
   "source": [
    "<a id='2.1.1'></a>\n",
    "\n",
    "### Liner Model Low Dimensional Data"
   ]
  },
  {
   "cell_type": "code",
   "execution_count": 46,
   "id": "e572dcf5",
   "metadata": {},
   "outputs": [
    {
     "name": "stdout",
     "output_type": "stream",
     "text": [
      "LogisticRegression StratifiedKFold (ROI): \n",
      "Best hyperparameters: {'logisticregression__C': 0.1, 'logisticregression__max_iter': 10000, 'logisticregression__penalty': 'l1', 'logisticregression__random_state': 42, 'logisticregression__solver': 'liblinear'}\n",
      "Mean score for roc_auc : 0.823\n",
      "Mean score for balanced_accuracy: 0.757 \n",
      "\n",
      "LogisticRegression StratifiedGroupKFold (ROI): \n",
      "Best hyperparameters: {'logisticregression__C': 0.3, 'logisticregression__max_iter': 10000, 'logisticregression__penalty': 'l1', 'logisticregression__random_state': 42, 'logisticregression__solver': 'liblinear'}\n",
      "Mean score for roc_auc : 0.793\n",
      "Mean score for balanced_accuracy: 0.699 \n",
      "\n",
      "results_linear_low_skf:  {'mean_roc_auc': 0.823, 'std_roc_auc': 0.047, 'mean_bacc': 0.757, 'std_bacc': 0.06, 'mean_fit_time': 9.5, 'std_fit_time': 0.1}\n",
      "results_linear_low_sgkf:  {'mean_roc_auc': 0.793, 'std_roc_auc': 0.034, 'mean_bacc': 0.699, 'std_bacc': 0.009, 'mean_fit_time': 8.9, 'std_fit_time': 0.0}\n"
     ]
    }
   ],
   "source": [
    "clf_linear_low = get_clf(model='linear', data='ROI')\n",
    "\n",
    "# Define the hyperparameters to tune\n",
    "param_grid_linear = {\n",
    "    'logisticregression__C': [0.1, 0.3, 0.5, 0.7, 1],\n",
    "    'logisticregression__penalty': ['l1', 'l2'],\n",
    "    'logisticregression__solver': ['liblinear'],\n",
    "    'logisticregression__max_iter': [10000],\n",
    "    'logisticregression__random_state': [42],\n",
    "}\n",
    "\n",
    "print('LogisticRegression StratifiedKFold (ROI): ')\n",
    "train_results_linear_low_skf = tune(clf_linear_low, param_grid_linear, cv_strategy='StratifiedKFold')\n",
    "\n",
    "print('LogisticRegression StratifiedGroupKFold (ROI): ')\n",
    "train_results_linear_low_sgkf = tune(clf_linear_low, param_grid_linear, cv_strategy='StratifiedGroupKFold')\n",
    "\n",
    "print('results_linear_low_skf: ', train_results_linear_low_skf)\n",
    "print('results_linear_low_sgkf: ', train_results_linear_low_sgkf)"
   ]
  },
  {
   "cell_type": "code",
   "execution_count": 47,
   "id": "9e77a2ba",
   "metadata": {},
   "outputs": [
    {
     "name": "stdout",
     "output_type": "stream",
     "text": [
      "Evaluation of LogisticRegression StratifiedKFold (ROI): \n",
      "# Train\n",
      "bACC=0.80 ROC-AUC=0.88 \n",
      "\n",
      "# Test\n",
      "bACC=0.78 ROC-AUC=0.84 \n",
      "\n",
      "Evaluation of LogisticRegression StratifiedGroupKFold (ROI): \n",
      "# Train\n",
      "bACC=0.83 ROC-AUC=0.93 \n",
      "\n",
      "# Test\n",
      "bACC=0.78 ROC-AUC=0.85 \n",
      "\n"
     ]
    }
   ],
   "source": [
    "# Best linear model for the ROI data using StratifiedKFold\n",
    "clf_linear_best_low_skf = make_pipeline(\n",
    "    ROIsFeatureExtractor(),\n",
    "    StandardScaler(),\n",
    "    LogisticRegression( \n",
    "                       C=0.1,\n",
    "                       max_iter=10000,                \n",
    "                       penalty='l1', \n",
    "                       solver= 'liblinear',\n",
    "                       random_state=42,\n",
    "                       )\n",
    ")\n",
    "\n",
    "# Best linear model for the ROI data using StratifiedGroupKFold\n",
    "clf_linear_best_low_sgkf = make_pipeline(\n",
    "    ROIsFeatureExtractor(),\n",
    "    StandardScaler(),\n",
    "    LogisticRegression( \n",
    "                       C=0.3,\n",
    "                       max_iter=10000,\n",
    "                       penalty='l1', \n",
    "                       solver= 'liblinear',\n",
    "                       random_state=42,\n",
    "                       )\n",
    ")\n",
    "\n",
    "print('Evaluation of LogisticRegression StratifiedKFold (ROI): ')\n",
    "test_results_linear_low_skf = evaluate(clf_linear_best_low_skf)\n",
    "\n",
    "print('Evaluation of LogisticRegression StratifiedGroupKFold (ROI): ')\n",
    "test_results_linear_low_sgkf = evaluate(clf_linear_best_low_sgkf)\n"
   ]
  },
  {
   "attachments": {},
   "cell_type": "markdown",
   "id": "4be7ad30",
   "metadata": {},
   "source": [
    "<a id='2.1.2'></a>\n",
    "### Liner Model High Dimensional Data"
   ]
  },
  {
   "cell_type": "code",
   "execution_count": 19,
   "id": "10975006",
   "metadata": {},
   "outputs": [
    {
     "name": "stdout",
     "output_type": "stream",
     "text": [
      "Evaluation of LogisticRegression (VBM): \n",
      "CPU times: user 44.6 s, sys: 6.83 s, total: 51.4 s\n",
      "Wall time: 13.7 s\n",
      "# Train\n",
      "bACC=1.00 ROC-AUC=1.00 \n",
      "\n",
      "# Test\n",
      "bACC=0.72 ROC-AUC=0.81 \n",
      "\n"
     ]
    }
   ],
   "source": [
    "# Best linear model for the VBM data\n",
    "clf_linear_best_high = make_pipeline(\n",
    "    VBMFeatureExtractor(),\n",
    "    StandardScaler(),\n",
    "    LogisticRegression( \n",
    "\n",
    "    )\n",
    ")\n",
    "\n",
    "print('Evaluation of LogisticRegression (VBM): ')\n",
    "test_results_linear_high = evaluate(clf_linear_best_high, report_fit_time=True)\n",
    "\n"
   ]
  },
  {
   "attachments": {},
   "cell_type": "markdown",
   "id": "ef75275d",
   "metadata": {},
   "source": [
    "<a id='2.2'></a>\n",
    "## Tree model"
   ]
  },
  {
   "attachments": {},
   "cell_type": "markdown",
   "id": "de2a714c",
   "metadata": {},
   "source": [
    "<a id='2.2.1'></a>\n",
    "### Tree Model Low Dimensional Data"
   ]
  },
  {
   "cell_type": "code",
   "execution_count": 38,
   "id": "e038e264",
   "metadata": {},
   "outputs": [
    {
     "name": "stdout",
     "output_type": "stream",
     "text": [
      "RandomForestClassifier StratifiedKFold (ROI): \n",
      "Best hyperparameters: {'randomforestclassifier__max_depth': 5, 'randomforestclassifier__min_samples_split': 2, 'randomforestclassifier__n_estimators': 300, 'randomforestclassifier__n_jobs': -1, 'randomforestclassifier__random_state': 42}\n",
      "Mean score for roc_auc : 0.786\n",
      "Mean score for balanced_accuracy: 0.716 \n",
      "\n",
      "CPU times: user 1.53 s, sys: 1.27 s, total: 2.81 s\n",
      "Wall time: 1min 7s\n",
      "RandomForestClassifier StratifiedGroupKFold (ROI): \n",
      "Best hyperparameters: {'randomforestclassifier__max_depth': 5, 'randomforestclassifier__min_samples_split': 5, 'randomforestclassifier__n_estimators': 300, 'randomforestclassifier__n_jobs': -1, 'randomforestclassifier__random_state': 42}\n",
      "Mean score for roc_auc : 0.78\n",
      "Mean score for balanced_accuracy: 0.697 \n",
      "\n",
      "CPU times: user 1.05 s, sys: 1.01 s, total: 2.07 s\n",
      "Wall time: 33.1 s\n",
      "results_tree_low_skf:  {'mean_roc_auc': 0.786, 'std_roc_auc': 0.058, 'mean_bacc': 0.716, 'std_bacc': 0.065, 'mean_fit_time': 7.9, 'std_fit_time': 0.5}\n",
      "results_tree_low_sgkf:  {'mean_roc_auc': 0.78, 'std_roc_auc': 0.089, 'mean_bacc': 0.697, 'std_bacc': 0.077, 'mean_fit_time': 7.7, 'std_fit_time': 0.2}\n"
     ]
    }
   ],
   "source": [
    "clf_tree_low = get_clf(model='tree', data='ROI')\n",
    "\n",
    "# Define the hyperparameters to tune\n",
    "param_grid_tree = {\n",
    "    \"randomforestclassifier__min_samples_split\": [2, 5],\n",
    "    \"randomforestclassifier__n_estimators\": [100, 300],\n",
    "    \"randomforestclassifier__max_depth\": [2, 3, 5],\n",
    "    \"randomforestclassifier__random_state\": [42],\n",
    "    \"randomforestclassifier__n_jobs\": [-1],\n",
    "}\n",
    "\n",
    "print('RandomForestClassifier StratifiedKFold (ROI): ')\n",
    "%time train_results_tree_low_skf = tune(clf_tree_low, param_grid_tree, cv_strategy='StratifiedKFold')\n",
    "\n",
    "print('RandomForestClassifier StratifiedGroupKFold (ROI): ')\n",
    "%time  train_results_tree_low_sgkf = tune(clf_tree_low, param_grid_tree, cv_strategy='StratifiedGroupKFold')\n",
    "\n",
    "print('results_tree_low_skf: ', train_results_tree_low_skf)\n",
    "print('results_tree_low_sgkf: ', train_results_tree_low_sgkf)"
   ]
  },
  {
   "cell_type": "code",
   "execution_count": 39,
   "id": "b1e4ddaa",
   "metadata": {},
   "outputs": [
    {
     "name": "stdout",
     "output_type": "stream",
     "text": [
      "Evaluation of RandomForestClassifier StratifiedKFold (ROI): \n",
      "# Train\n",
      "bACC=0.95 ROC-AUC=1.00 \n",
      "\n",
      "# Test\n",
      "bACC=0.76 ROC-AUC=0.80 \n",
      "\n",
      "CPU times: user 972 ms, sys: 165 ms, total: 1.14 s\n",
      "Wall time: 548 ms\n",
      "Evaluation of RandomForestClassifier StratifiedGroupKFold (ROI): \n",
      "# Train\n",
      "bACC=0.95 ROC-AUC=0.99 \n",
      "\n",
      "# Test\n",
      "bACC=0.75 ROC-AUC=0.80 \n",
      "\n",
      "CPU times: user 953 ms, sys: 151 ms, total: 1.1 s\n",
      "Wall time: 512 ms\n"
     ]
    }
   ],
   "source": [
    "# Best tree model for the ROI data using StratifiedKFold\n",
    "clf_tree_best_low_skf = make_pipeline(\n",
    "    ROIsFeatureExtractor(),\n",
    "    StandardScaler(),\n",
    "    RandomForestClassifier(\n",
    "        max_depth=5,\n",
    "        min_samples_split=2,\n",
    "        n_estimators=300,\n",
    "        n_jobs=-1,\n",
    "        random_state=42,\n",
    "    )\n",
    ")\n",
    "\n",
    "# Best tree model for the ROI data using StratifiedGroupKFold\n",
    "clf_tree_best_low_sgkf = make_pipeline(\n",
    "    ROIsFeatureExtractor(),\n",
    "    StandardScaler(),\n",
    "    RandomForestClassifier(\n",
    "        max_depth=5,\n",
    "        min_samples_split=5,\n",
    "        n_estimators=300,\n",
    "        n_jobs=-1,\n",
    "        random_state=42,\n",
    "    )\n",
    ")\n",
    "\n",
    "print('Evaluation of RandomForestClassifier StratifiedKFold (ROI): ')\n",
    "%time test_results_tree_low_skf = evaluate(clf_tree_best_low_skf)\n",
    "\n",
    "print('Evaluation of RandomForestClassifier StratifiedGroupKFold (ROI): ')\n",
    "%time test_results_tree_low_sgkf = evaluate(clf_tree_best_low_sgkf)\n"
   ]
  },
  {
   "attachments": {},
   "cell_type": "markdown",
   "id": "c4b91909",
   "metadata": {},
   "source": [
    "<a id='2.2.2'></a>\n",
    "### Tree Model High Dimensional Data"
   ]
  },
  {
   "cell_type": "code",
   "execution_count": 22,
   "id": "59c24582",
   "metadata": {},
   "outputs": [
    {
     "name": "stdout",
     "output_type": "stream",
     "text": [
      "Evaluation of GradientBoostingClassifier (VBM): \n",
      "CPU times: user 6.82 s, sys: 1.26 s, total: 8.08 s\n",
      "Wall time: 10.4 s\n",
      "# Train\n",
      "bACC=1.00 ROC-AUC=1.00 \n",
      "\n",
      "# Test\n",
      "bACC=0.61 ROC-AUC=0.71 \n",
      "\n"
     ]
    }
   ],
   "source": [
    "# Best tree model for the VBM data\n",
    "clf_tree_best_high = make_pipeline(\n",
    "    VBMFeatureExtractor(),\n",
    "    StandardScaler(),\n",
    "    RandomForestClassifier(\n",
    "        random_state=42,    \n",
    "    )\n",
    ")\n",
    "\n",
    "print('Evaluation of GradientBoostingClassifier (VBM): ')\n",
    "test_results_tree_high = evaluate(clf_tree_best_high, report_fit_time=True)\n"
   ]
  },
  {
   "attachments": {},
   "cell_type": "markdown",
   "id": "131c6c1c",
   "metadata": {},
   "source": [
    "<a id='2.3'></a>\n",
    "## Non Linear Model"
   ]
  },
  {
   "attachments": {},
   "cell_type": "markdown",
   "id": "5ce5d658",
   "metadata": {},
   "source": [
    "<a id='2.3.1'></a>\n",
    "### Non Linear Model Low Dimensional Data"
   ]
  },
  {
   "cell_type": "code",
   "execution_count": 23,
   "id": "237b450a",
   "metadata": {},
   "outputs": [
    {
     "name": "stdout",
     "output_type": "stream",
     "text": [
      "MLPClassifier StratifiedKFold (ROI): \n",
      "Best hyperparameters: {'mlpclassifier__activation': 'logistic', 'mlpclassifier__hidden_layer_sizes': (100,), 'mlpclassifier__learning_rate': 'adaptive', 'mlpclassifier__max_iter': 10000, 'mlpclassifier__random_state': 42, 'mlpclassifier__solver': 'sgd'}\n",
      "Mean score for roc_auc : 0.823\n",
      "Mean score for balanced_accuracy: 0.718 \n",
      "\n",
      "CPU times: user 22.2 s, sys: 8.28 s, total: 30.5 s\n",
      "Wall time: 3min 29s\n",
      "MLPClassifier StratifiedGroupKFold (ROI): \n",
      "Best hyperparameters: {'mlpclassifier__activation': 'relu', 'mlpclassifier__hidden_layer_sizes': (100,), 'mlpclassifier__learning_rate': 'constant', 'mlpclassifier__max_iter': 10000, 'mlpclassifier__random_state': 42, 'mlpclassifier__solver': 'adam'}\n",
      "Mean score for roc_auc : 0.808\n",
      "Mean score for balanced_accuracy: 0.706 \n",
      "\n",
      "CPU times: user 7.17 s, sys: 3.12 s, total: 10.3 s\n",
      "Wall time: 1min 13s\n",
      "results_nonlinear_low_skf:  {'mean_roc_auc': 0.823, 'std_roc_auc': 0.033, 'mean_bacc': 0.718, 'std_bacc': 0.042, 'mean_fit_time': 26.1, 'std_fit_time': 0.9}\n",
      "results_nonlinear_low_sgkf:  {'mean_roc_auc': 0.808, 'std_roc_auc': 0.048, 'mean_bacc': 0.706, 'std_bacc': 0.035, 'mean_fit_time': 8.8, 'std_fit_time': 0.2}\n"
     ]
    }
   ],
   "source": [
    "clf_nonlinear_low = get_clf(model='nonlinear', data='ROI')\n",
    "\n",
    "# Define the hyperparameters to tune\n",
    "param_grid_nonlinear = {\n",
    "    'mlpclassifier__hidden_layer_sizes': [(50,), (100,), (100, 100)],\n",
    "    'mlpclassifier__activation': ['relu', 'logistic'],\n",
    "    'mlpclassifier__solver': ['adam', 'sgd'],\n",
    "    'mlpclassifier__learning_rate': ['constant', 'adaptive'],\n",
    "    'mlpclassifier__max_iter': [10000],\n",
    "    'mlpclassifier__random_state': [42],\n",
    "}\n",
    "\n",
    "print('MLPClassifier StratifiedKFold (ROI): ')\n",
    "%time train_results_nonlinear_low_skf = tune(clf_nonlinear_low, param_grid_nonlinear, cv_strategy='StratifiedKFold')\n",
    "\n",
    "print('MLPClassifier StratifiedGroupKFold (ROI): ')\n",
    "%time train_results_nonlinear_low_sgkf = tune(clf_nonlinear_low, param_grid_nonlinear, cv_strategy='StratifiedGroupKFold')\n",
    "\n",
    "print('results_nonlinear_low_skf: ', train_results_nonlinear_low_skf)\n",
    "print('results_nonlinear_low_sgkf: ', train_results_nonlinear_low_sgkf)"
   ]
  },
  {
   "cell_type": "code",
   "execution_count": 24,
   "id": "725a6b0b",
   "metadata": {},
   "outputs": [
    {
     "name": "stdout",
     "output_type": "stream",
     "text": [
      "Evaluation of MLPClassifier StratifiedKFold (ROI): \n",
      "# Train\n",
      "bACC=0.82 ROC-AUC=0.91 \n",
      "\n",
      "# Test\n",
      "bACC=0.73 ROC-AUC=0.82 \n",
      "\n",
      "CPU times: user 19.8 s, sys: 5.89 s, total: 25.7 s\n",
      "Wall time: 4.01 s\n",
      "Evaluation of MLPClassifier StratifiedGroupKFold (ROI): \n",
      "# Train\n",
      "bACC=1.00 ROC-AUC=1.00 \n",
      "\n",
      "# Test\n",
      "bACC=0.78 ROC-AUC=0.83 \n",
      "\n",
      "CPU times: user 5.78 s, sys: 1.96 s, total: 7.74 s\n",
      "Wall time: 1.54 s\n"
     ]
    }
   ],
   "source": [
    "# Best non linear model for the ROI data using StratifiedKFold\n",
    "clf_nonlinear_best_low_skf = make_pipeline(\n",
    "    ROIsFeatureExtractor(),\n",
    "    StandardScaler(),\n",
    "    MLPClassifier(\n",
    "        activation='logistic',\n",
    "        hidden_layer_sizes=(100,),\n",
    "        max_iter=10000,\n",
    "        random_state=42,\n",
    "        solver='sgd',\n",
    "        learning_rate='adaptive',\n",
    "    )\n",
    ")\n",
    "\n",
    "# Best non linear model for the ROI data using StratifiedGroupKFold\n",
    "clf_nonlinear_best_low_sgkf = make_pipeline(\n",
    "    ROIsFeatureExtractor(),\n",
    "    StandardScaler(),\n",
    "    MLPClassifier(\n",
    "        activation='relu',\n",
    "        hidden_layer_sizes=(100,),\n",
    "        max_iter=10000,\n",
    "        random_state=42,\n",
    "        solver='adam',\n",
    "        learning_rate='constant',\n",
    "    )\n",
    ")\n",
    "\n",
    "print('Evaluation of MLPClassifier StratifiedKFold (ROI): ')\n",
    "%time test_results_nonlinear_low_skf = evaluate(clf_nonlinear_best_low_skf)\n",
    "\n",
    "print('Evaluation of MLPClassifier StratifiedGroupKFold (ROI): ')\n",
    "%time test_results_nonlinear_low_sgkf = evaluate(clf_nonlinear_best_low_sgkf)"
   ]
  },
  {
   "attachments": {},
   "cell_type": "markdown",
   "id": "12e0a11c",
   "metadata": {},
   "source": [
    "<a id='2.3.2'></a>\n",
    "### Non Linear Model High Dimensional Data"
   ]
  },
  {
   "cell_type": "code",
   "execution_count": 25,
   "id": "c88be6b8",
   "metadata": {},
   "outputs": [
    {
     "name": "stdout",
     "output_type": "stream",
     "text": [
      "Evaluation of MLPClassifier (VBM): \n",
      "CPU times: user 5min 14s, sys: 3min 52s, total: 9min 6s\n",
      "Wall time: 4min 36s\n",
      "# Train\n",
      "bACC=1.00 ROC-AUC=1.00 \n",
      "\n",
      "# Test\n",
      "bACC=0.67 ROC-AUC=0.71 \n",
      "\n"
     ]
    }
   ],
   "source": [
    "# Best non linear model for the VBM data\n",
    "clf_nonlinear_best_high = make_pipeline(\n",
    "    VBMFeatureExtractor(),\n",
    "    StandardScaler(),\n",
    "    MLPClassifier(\n",
    "        random_state=42,\n",
    "    )\n",
    ")\n",
    "\n",
    "print('Evaluation of MLPClassifier (VBM): ')\n",
    "test_results_nonlinear_high = evaluate(clf_nonlinear_best_high, report_fit_time=True)\n",
    "\n"
   ]
  },
  {
   "attachments": {},
   "cell_type": "markdown",
   "id": "a442f435",
   "metadata": {},
   "source": [
    "<a id='3'></a>\n",
    "# Results"
   ]
  },
  {
   "cell_type": "code",
   "execution_count": 26,
   "id": "46e884c8",
   "metadata": {},
   "outputs": [],
   "source": [
    "# Preparing lists with results\n",
    "\n",
    "# AUC_ROC information for RIO data\n",
    "roc_data_low = [\n",
    "    test_results_linear_low_skf,\n",
    "    test_results_linear_low_sgkf,\n",
    "    test_results_tree_low_skf,\n",
    "    test_results_tree_low_sgkf,\n",
    "    test_results_nonlinear_low_skf,\n",
    "    test_results_nonlinear_low_sgkf,\n",
    "]\n",
    "\n",
    "# Defining the labels of ROC curves\n",
    "roc_data_low_labels = [\n",
    "    'LR (SKF)',\n",
    "    'LR (SGKF)',\n",
    "    'RF (SKF)',\n",
    "    'RF (SGKF)',\n",
    "    'MLP (SKF)',\n",
    "    'MLP (SGKF)',\n",
    "]\n",
    "\n",
    "# Defining formatting the ROC curves\n",
    "formats_low = ['b-','b--','r-','r--','g-','g--']\n",
    "\n",
    "# AUC_ROC information for VBM data\n",
    "roc_data_high = [\n",
    "    test_results_linear_high,\n",
    "    test_results_tree_high,\n",
    "    test_results_nonlinear_high,\n",
    "]\n",
    "\n",
    "# Defining the labels of ROC curves\n",
    "roc_data_high_labels = [\n",
    "    'LR',\n",
    "    'RF',\n",
    "    'MLP',\n",
    "]\n",
    "\n",
    "# Defining formatting the ROC curves\n",
    "formats_high = ['b-','r-','g-']\n"
   ]
  },
  {
   "cell_type": "code",
   "execution_count": 27,
   "id": "8bd04665",
   "metadata": {},
   "outputs": [
    {
     "data": {
      "image/png": "[encoded data removed]",
      "text/plain": [
       "<Figure size 640x480 with 1 Axes>"
      ]
     },
     "metadata": {},
     "output_type": "display_data"
    }
   ],
   "source": [
    "# Plotting the ROC curves of the models for the low dimensional data \n",
    "for roc_temp, name, format in zip(roc_data_low, roc_data_low_labels, formats_low):\n",
    "    plt.plot(roc_temp['fpr'], roc_temp['tpr'], format, label=f'{name}: auc = %0.2f' % roc_temp['auc_test'])\n",
    "plt.plot([0, 1], [0, 1], 'k--')\n",
    "plt.xlim([0.0, 1.0])\n",
    "plt.ylim([0.0, 1.05])\n",
    "plt.xlabel('False Positive Rate')\n",
    "plt.ylabel('True Positive Rate')\n",
    "plt.title('Low Dimensional Data ROC curve')\n",
    "plt.legend(loc=\"lower right\")\n",
    "#saving image\n",
    "plt.savefig('roc_low.png')\n",
    "plt.show()\n",
    "\n",
    "\n"
   ]
  },
  {
   "cell_type": "code",
   "execution_count": 28,
   "id": "a4fdbdb3",
   "metadata": {},
   "outputs": [
    {
     "data": {
      "image/png": "[encoded data removed]",
      "text/plain": [
       "<Figure size 640x480 with 1 Axes>"
      ]
     },
     "metadata": {},
     "output_type": "display_data"
    }
   ],
   "source": [
    "# Plotting the ROC curves of the models for the high dimensional data \n",
    "for roc_temp, name, format in zip(roc_data_high, roc_data_high_labels, formats_high):\n",
    "    plt.plot(roc_temp['fpr'], roc_temp['tpr'], format, label=f'{name}: auc = %0.2f' % roc_temp['auc_test'])\n",
    "plt.plot([0, 1], [0, 1], 'k--')\n",
    "plt.xlim([0.0, 1.0])\n",
    "plt.ylim([0.0, 1.05])\n",
    "plt.xlabel('False Positive Rate')\n",
    "plt.ylabel('True Positive Rate')\n",
    "plt.title('High Dimensional Data ROC curve')\n",
    "plt.legend(loc=\"lower right\")\n",
    "#saving image\n",
    "plt.savefig('roc_high.png')\n",
    "plt.show()\n",
    "\n"
   ]
  },
  {
   "cell_type": "code",
   "execution_count": 29,
   "id": "bb878562",
   "metadata": {},
   "outputs": [],
   "source": [
    "# Loggoing the training time for the VBM data. See %time output\n",
    "fit_time_high_linear = '13.7s'\n",
    "fit_time_high_tree = '10.4s'\n",
    "fit_time_high_nonlinear = '4min 36s'"
   ]
  },
  {
   "cell_type": "code",
   "execution_count": 48,
   "id": "70e99309",
   "metadata": {},
   "outputs": [],
   "source": [
    "# Combining train and test results\n",
    "\n",
    "train_results_low_skf = [\n",
    "    train_results_linear_low_skf,\n",
    "    train_results_tree_low_skf,\n",
    "    train_results_nonlinear_low_skf,\n",
    "]\n",
    "\n",
    "train_results_low_sgkf = [\n",
    "    train_results_linear_low_sgkf,\n",
    "    train_results_tree_low_sgkf,\n",
    "    train_results_nonlinear_low_sgkf,\n",
    "]\n",
    "\n",
    "test_results_low_skf = [\n",
    "    test_results_linear_low_skf,\n",
    "    test_results_tree_low_skf,\n",
    "    test_results_nonlinear_low_skf,\n",
    "]\n",
    "\n",
    "test_results_low_sgkf = [\n",
    "    test_results_linear_low_sgkf,\n",
    "    test_results_tree_low_sgkf,\n",
    "    test_results_nonlinear_low_sgkf,\n",
    "]\n",
    "\n",
    "results_high = [\n",
    "    test_results_linear_high,\n",
    "    test_results_tree_high,\n",
    "    test_results_nonlinear_high,\n",
    "]\n",
    "\n",
    "# Reported with the %time extension\n",
    "fit_times_high = [fit_time_high_linear, fit_time_high_tree, fit_time_high_nonlinear]\n",
    "\n",
    "model_names = ['LR', 'RF', 'MLP']"
   ]
  },
  {
   "cell_type": "code",
   "execution_count": 49,
   "id": "da16d35e",
   "metadata": {},
   "outputs": [],
   "source": [
    "# Defining tables for results overview\n",
    "\n",
    "# ROI data StratifiedKFold\n",
    "df_low_skf = pd.DataFrame({\n",
    "    'model': model_names,\n",
    "    'test auc': [result['auc_test'] for result in test_results_low_skf],\n",
    "    'test bacc': [result['bacc_test'] for result in test_results_low_skf], \n",
    "    'train auc': [result['auc_train'] for result in test_results_low_skf],\n",
    "    'train bacc': [result['bacc_train'] for result in test_results_low_skf],\n",
    "    'mean val auc': [f\"{result['mean_roc_auc']} ({result['std_roc_auc']})\" for result in train_results_low_skf],\n",
    "    'mean val bacc': [result['mean_bacc'] for result in train_results_low_skf],\n",
    "    'mean val bacc': [f\"{result['mean_bacc']} ({result['std_bacc']})\" for result in train_results_low_skf],\n",
    "    'mean fit time': [f\"{result['mean_fit_time']}s ({result['std_fit_time']}s)\" for result in train_results_low_skf],\n",
    "    })\n",
    "\n",
    "# ROI data StratifiedGroupKFold\n",
    "df_low_sgkf = pd.DataFrame({\n",
    "    'model': model_names,\n",
    "    'test auc': [result['auc_test'] for result in test_results_low_sgkf],\n",
    "    'test bacc': [result['bacc_test'] for result in test_results_low_sgkf], \n",
    "    'train auc': [result['auc_train'] for result in test_results_low_sgkf],\n",
    "    'train bacc': [result['bacc_train'] for result in test_results_low_sgkf],\n",
    "    'mean val auc': [f\"{result['mean_roc_auc']} ({result['std_roc_auc']})\" for result in train_results_low_sgkf],\n",
    "    'mean val bacc': [result['mean_bacc'] for result in train_results_low_sgkf],\n",
    "    'mean val bacc': [f\"{result['mean_bacc']} ({result['std_bacc']})\" for result in train_results_low_sgkf],\n",
    "    'mean fit time': [f\"{result['mean_fit_time']}s ({result['std_fit_time']}s)\" for result in train_results_low_sgkf],\n",
    "    })\n",
    "\n",
    "# VBM data\n",
    "df_high = pd.DataFrame({\n",
    "    'model': model_names,\n",
    "    'test auc':[result['auc_test'] for result in results_high],\n",
    "    'test bacc': [result['bacc_test'] for result in results_high],\n",
    "    'train auc': [result['auc_train'] for result in results_high],\n",
    "    'train bacc': [result['bacc_train'] for result in results_high],\n",
    "    'fit time': fit_times_high,\n",
    "    })"
   ]
  },
  {
   "cell_type": "code",
   "execution_count": 50,
   "id": "184251a6",
   "metadata": {},
   "outputs": [
    {
     "name": "stdout",
     "output_type": "stream",
     "text": [
      "Results Low Dimensional Data StratifiedKFold\n"
     ]
    },
    {
     "data": {
      "text/html": [
       "<div>\n",
       "<style scoped>\n",
       "    .dataframe tbody tr th:only-of-type {\n",
       "        vertical-align: middle;\n",
       "    }\n",
       "\n",
       "    .dataframe tbody tr th {\n",
       "        vertical-align: top;\n",
       "    }\n",
       "\n",
       "    .dataframe thead th {\n",
       "        text-align: right;\n",
       "    }\n",
       "</style>\n",
       "<table border=\"1\" class=\"dataframe\">\n",
       "  <thead>\n",
       "    <tr style=\"text-align: right;\">\n",
       "      <th></th>\n",
       "      <th>model</th>\n",
       "      <th>test auc</th>\n",
       "      <th>test bacc</th>\n",
       "      <th>train auc</th>\n",
       "      <th>train bacc</th>\n",
       "      <th>mean val auc</th>\n",
       "      <th>mean val bacc</th>\n",
       "      <th>mean fit time</th>\n",
       "    </tr>\n",
       "  </thead>\n",
       "  <tbody>\n",
       "    <tr>\n",
       "      <th>0</th>\n",
       "      <td>LR</td>\n",
       "      <td>0.844</td>\n",
       "      <td>0.781</td>\n",
       "      <td>0.882</td>\n",
       "      <td>0.801</td>\n",
       "      <td>0.823 (0.047)</td>\n",
       "      <td>0.757 (0.06)</td>\n",
       "      <td>9.5s (0.1s)</td>\n",
       "    </tr>\n",
       "    <tr>\n",
       "      <th>1</th>\n",
       "      <td>RF</td>\n",
       "      <td>0.798</td>\n",
       "      <td>0.757</td>\n",
       "      <td>0.996</td>\n",
       "      <td>0.951</td>\n",
       "      <td>0.786 (0.058)</td>\n",
       "      <td>0.716 (0.065)</td>\n",
       "      <td>7.9s (0.5s)</td>\n",
       "    </tr>\n",
       "    <tr>\n",
       "      <th>2</th>\n",
       "      <td>MLP</td>\n",
       "      <td>0.823</td>\n",
       "      <td>0.731</td>\n",
       "      <td>0.906</td>\n",
       "      <td>0.821</td>\n",
       "      <td>0.823 (0.033)</td>\n",
       "      <td>0.718 (0.042)</td>\n",
       "      <td>26.1s (0.9s)</td>\n",
       "    </tr>\n",
       "  </tbody>\n",
       "</table>\n",
       "</div>"
      ],
      "text/plain": [
       "  model  test auc  test bacc  train auc  train bacc   mean val auc  \\\n",
       "0    LR     0.844      0.781      0.882       0.801  0.823 (0.047)   \n",
       "1    RF     0.798      0.757      0.996       0.951  0.786 (0.058)   \n",
       "2   MLP     0.823      0.731      0.906       0.821  0.823 (0.033)   \n",
       "\n",
       "   mean val bacc mean fit time  \n",
       "0   0.757 (0.06)   9.5s (0.1s)  \n",
       "1  0.716 (0.065)   7.9s (0.5s)  \n",
       "2  0.718 (0.042)  26.1s (0.9s)  "
      ]
     },
     "execution_count": 50,
     "metadata": {},
     "output_type": "execute_result"
    }
   ],
   "source": [
    "print('Results Low Dimensional Data StratifiedKFold')\n",
    "df_low_skf"
   ]
  },
  {
   "cell_type": "code",
   "execution_count": 51,
   "id": "435652d0",
   "metadata": {},
   "outputs": [
    {
     "name": "stdout",
     "output_type": "stream",
     "text": [
      "Results Low Dimensional Data StratifiedGroupKFold\n"
     ]
    },
    {
     "data": {
      "text/html": [
       "<div>\n",
       "<style scoped>\n",
       "    .dataframe tbody tr th:only-of-type {\n",
       "        vertical-align: middle;\n",
       "    }\n",
       "\n",
       "    .dataframe tbody tr th {\n",
       "        vertical-align: top;\n",
       "    }\n",
       "\n",
       "    .dataframe thead th {\n",
       "        text-align: right;\n",
       "    }\n",
       "</style>\n",
       "<table border=\"1\" class=\"dataframe\">\n",
       "  <thead>\n",
       "    <tr style=\"text-align: right;\">\n",
       "      <th></th>\n",
       "      <th>model</th>\n",
       "      <th>test auc</th>\n",
       "      <th>test bacc</th>\n",
       "      <th>train auc</th>\n",
       "      <th>train bacc</th>\n",
       "      <th>mean val auc</th>\n",
       "      <th>mean val bacc</th>\n",
       "      <th>mean fit time</th>\n",
       "    </tr>\n",
       "  </thead>\n",
       "  <tbody>\n",
       "    <tr>\n",
       "      <th>0</th>\n",
       "      <td>LR</td>\n",
       "      <td>0.855</td>\n",
       "      <td>0.781</td>\n",
       "      <td>0.929</td>\n",
       "      <td>0.827</td>\n",
       "      <td>0.793 (0.034)</td>\n",
       "      <td>0.699 (0.009)</td>\n",
       "      <td>8.9s (0.0s)</td>\n",
       "    </tr>\n",
       "    <tr>\n",
       "      <th>1</th>\n",
       "      <td>RF</td>\n",
       "      <td>0.804</td>\n",
       "      <td>0.748</td>\n",
       "      <td>0.995</td>\n",
       "      <td>0.951</td>\n",
       "      <td>0.78 (0.089)</td>\n",
       "      <td>0.697 (0.077)</td>\n",
       "      <td>7.7s (0.2s)</td>\n",
       "    </tr>\n",
       "    <tr>\n",
       "      <th>2</th>\n",
       "      <td>MLP</td>\n",
       "      <td>0.827</td>\n",
       "      <td>0.781</td>\n",
       "      <td>1.000</td>\n",
       "      <td>1.000</td>\n",
       "      <td>0.808 (0.048)</td>\n",
       "      <td>0.706 (0.035)</td>\n",
       "      <td>8.8s (0.2s)</td>\n",
       "    </tr>\n",
       "  </tbody>\n",
       "</table>\n",
       "</div>"
      ],
      "text/plain": [
       "  model  test auc  test bacc  train auc  train bacc   mean val auc  \\\n",
       "0    LR     0.855      0.781      0.929       0.827  0.793 (0.034)   \n",
       "1    RF     0.804      0.748      0.995       0.951   0.78 (0.089)   \n",
       "2   MLP     0.827      0.781      1.000       1.000  0.808 (0.048)   \n",
       "\n",
       "   mean val bacc mean fit time  \n",
       "0  0.699 (0.009)   8.9s (0.0s)  \n",
       "1  0.697 (0.077)   7.7s (0.2s)  \n",
       "2  0.706 (0.035)   8.8s (0.2s)  "
      ]
     },
     "execution_count": 51,
     "metadata": {},
     "output_type": "execute_result"
    }
   ],
   "source": [
    "print('Results Low Dimensional Data StratifiedGroupKFold')\n",
    "df_low_sgkf"
   ]
  },
  {
   "cell_type": "code",
   "execution_count": 52,
   "id": "9bef39b5",
   "metadata": {},
   "outputs": [
    {
     "data": {
      "text/html": [
       "<div>\n",
       "<style scoped>\n",
       "    .dataframe tbody tr th:only-of-type {\n",
       "        vertical-align: middle;\n",
       "    }\n",
       "\n",
       "    .dataframe tbody tr th {\n",
       "        vertical-align: top;\n",
       "    }\n",
       "\n",
       "    .dataframe thead th {\n",
       "        text-align: right;\n",
       "    }\n",
       "</style>\n",
       "<table border=\"1\" class=\"dataframe\">\n",
       "  <thead>\n",
       "    <tr style=\"text-align: right;\">\n",
       "      <th></th>\n",
       "      <th>model</th>\n",
       "      <th>test auc</th>\n",
       "      <th>test bacc</th>\n",
       "      <th>train auc</th>\n",
       "      <th>train bacc</th>\n",
       "      <th>fit time</th>\n",
       "    </tr>\n",
       "  </thead>\n",
       "  <tbody>\n",
       "    <tr>\n",
       "      <th>0</th>\n",
       "      <td>LR</td>\n",
       "      <td>0.809</td>\n",
       "      <td>0.719</td>\n",
       "      <td>1.0</td>\n",
       "      <td>1.0</td>\n",
       "      <td>13.7s</td>\n",
       "    </tr>\n",
       "    <tr>\n",
       "      <th>1</th>\n",
       "      <td>RF</td>\n",
       "      <td>0.712</td>\n",
       "      <td>0.612</td>\n",
       "      <td>1.0</td>\n",
       "      <td>1.0</td>\n",
       "      <td>10.4s</td>\n",
       "    </tr>\n",
       "    <tr>\n",
       "      <th>2</th>\n",
       "      <td>MLP</td>\n",
       "      <td>0.713</td>\n",
       "      <td>0.669</td>\n",
       "      <td>1.0</td>\n",
       "      <td>1.0</td>\n",
       "      <td>4min 36s</td>\n",
       "    </tr>\n",
       "  </tbody>\n",
       "</table>\n",
       "</div>"
      ],
      "text/plain": [
       "  model  test auc  test bacc  train auc  train bacc  fit time\n",
       "0    LR     0.809      0.719        1.0         1.0     13.7s\n",
       "1    RF     0.712      0.612        1.0         1.0     10.4s\n",
       "2   MLP     0.713      0.669        1.0         1.0  4min 36s"
      ]
     },
     "execution_count": 52,
     "metadata": {},
     "output_type": "execute_result"
    }
   ],
   "source": [
    "df_high"
   ]
  },
  {
   "cell_type": "code",
   "execution_count": 53,
   "id": "1f97c9ad",
   "metadata": {},
   "outputs": [],
   "source": [
    "#save to CSV\n",
    "df_low_skf.to_csv('df_low_skf.csv')\n",
    "df_low_sgkf.to_csv('df_low_sgkf.csv')\n",
    "df_high.to_csv('df_high.csv')"
   ]
  }
 ],
 "metadata": {
  "kernelspec": {
   "display_name": "Python 3 (ipykernel)",
   "language": "python",
   "name": "python3"
  },
  "language_info": {
   "codemirror_mode": {
    "name": "ipython",
    "version": 3
   },
   "file_extension": ".py",
   "mimetype": "text/x-python",
   "name": "python",
   "nbconvert_exporter": "python",
   "pygments_lexer": "ipython3",
   "version": "3.11.2"
  }
 },
 "nbformat": 4,
 "nbformat_minor": 5
}
